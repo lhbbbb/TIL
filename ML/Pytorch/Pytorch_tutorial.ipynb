{
 "cells": [
  {
   "cell_type": "markdown",
   "metadata": {},
   "source": [
    "# Pytorch란?\n",
    "Python 기반의 과학 연산 패키지로 다음과 같은 두 집단을 대상으로 한다.\n",
    "\n",
    "* NumPy를 대체하고 GPU의 연산력을 사용\n",
    "* 최대한의 유연성과 속도를 제공하는 딥러닝 연구 플랫폼"
   ]
  },
  {
   "cell_type": "markdown",
   "metadata": {},
   "source": [
    "## 시작하기\n",
    "### Tensors\n",
    "Tensor는 NumPy의 ndarray와 유사할뿐만 아니라, GPU를 사용한 연산 가속도 지원한다."
   ]
  },
  {
   "cell_type": "code",
   "execution_count": 1,
   "metadata": {},
   "outputs": [],
   "source": [
    "from __future__ import print_function\n",
    "import torch"
   ]
  },
  {
   "cell_type": "markdown",
   "metadata": {},
   "source": [
    "초기화되지 않은 5x3 행렬 생성"
   ]
  },
  {
   "cell_type": "code",
   "execution_count": 2,
   "metadata": {},
   "outputs": [
    {
     "name": "stdout",
     "output_type": "stream",
     "text": [
      "tensor([[0., 0., 0.],\n",
      "        [0., 0., 0.],\n",
      "        [0., 0., 0.],\n",
      "        [0., 0., 0.],\n",
      "        [0., 0., 0.]])\n"
     ]
    }
   ],
   "source": [
    "x = torch.Tensor(5,3)\n",
    "print(x)"
   ]
  },
  {
   "cell_type": "markdown",
   "metadata": {},
   "source": [
    "무작위로 초기화된 행렬 생성"
   ]
  },
  {
   "cell_type": "code",
   "execution_count": 3,
   "metadata": {},
   "outputs": [
    {
     "name": "stdout",
     "output_type": "stream",
     "text": [
      "tensor([[0.9425, 0.9268, 0.9095],\n",
      "        [0.9326, 0.8291, 0.9527],\n",
      "        [0.2486, 0.6046, 0.0488],\n",
      "        [0.9747, 0.0511, 0.7996],\n",
      "        [0.3674, 0.4959, 0.2828]])\n"
     ]
    }
   ],
   "source": [
    "x = torch.rand(5,3)\n",
    "print(x)"
   ]
  },
  {
   "cell_type": "markdown",
   "metadata": {},
   "source": [
    "행렬의 크기 구하기"
   ]
  },
  {
   "cell_type": "code",
   "execution_count": 5,
   "metadata": {},
   "outputs": [
    {
     "name": "stdout",
     "output_type": "stream",
     "text": [
      "torch.Size([5, 3])\n"
     ]
    }
   ],
   "source": [
    "print(x.size())"
   ]
  },
  {
   "cell_type": "markdown",
   "metadata": {},
   "source": [
    "NumPy의 인덱싱 표기 방법 사용 가능"
   ]
  },
  {
   "cell_type": "code",
   "execution_count": 8,
   "metadata": {},
   "outputs": [
    {
     "name": "stdout",
     "output_type": "stream",
     "text": [
      "tensor([0.9268, 0.8291, 0.6046, 0.0511, 0.4959])\n"
     ]
    }
   ],
   "source": [
    "print(x[:, 1]) # 2번째 열 가져오기 // index는 0부터 시작"
   ]
  },
  {
   "cell_type": "markdown",
   "metadata": {},
   "source": [
    "크기 변경: tensor의 크기나 모양을 변경하고 싶을 때, `torch.view`를 사용"
   ]
  },
  {
   "cell_type": "code",
   "execution_count": 12,
   "metadata": {},
   "outputs": [
    {
     "name": "stdout",
     "output_type": "stream",
     "text": [
      "tensor([[-0.8341,  0.4341,  0.2374,  0.1950],\n",
      "        [ 0.1473, -0.5010,  0.9077, -0.6484],\n",
      "        [-0.3742, -0.3710,  0.5967,  1.0490],\n",
      "        [-0.0453,  0.5050,  0.6899, -0.6456]]) torch.Size([4, 4])\n",
      "tensor([-0.8341,  0.4341,  0.2374,  0.1950,  0.1473, -0.5010,  0.9077, -0.6484,\n",
      "        -0.3742, -0.3710,  0.5967,  1.0490, -0.0453,  0.5050,  0.6899, -0.6456]) torch.Size([16])\n",
      "tensor([[-0.8341,  0.4341,  0.2374,  0.1950,  0.1473, -0.5010,  0.9077, -0.6484],\n",
      "        [-0.3742, -0.3710,  0.5967,  1.0490, -0.0453,  0.5050,  0.6899, -0.6456]]) torch.Size([2, 8])\n"
     ]
    }
   ],
   "source": [
    "x = torch.randn(4, 4)\n",
    "y = x.view(16)\n",
    "z = x.view(-1, 8) # 사이즈가 -1인 경우 다른 차원들을 사용하여 자동으로 유추\n",
    "print(x, x.size()) # 4*4\n",
    "print(y, y.size()) # 1*16\n",
    "print(z, z.size()) # 2*8"
   ]
  },
  {
   "cell_type": "markdown",
   "metadata": {},
   "source": [
    "### CUDA Tensors"
   ]
  },
  {
   "cell_type": "markdown",
   "metadata": {},
   "source": [
    "`.cuda` 메소드를 사용하여 Tensor를 GPU상으로 옮길 수 있다."
   ]
  },
  {
   "cell_type": "code",
   "execution_count": 13,
   "metadata": {},
   "outputs": [
    {
     "name": "stdout",
     "output_type": "stream",
     "text": [
      "tensor([[-0.8341,  0.4341,  0.2374,  0.1950],\n",
      "        [ 0.1473, -0.5010,  0.9077, -0.6484],\n",
      "        [-0.3742, -0.3710,  0.5967,  1.0490],\n",
      "        [-0.0453,  0.5050,  0.6899, -0.6456]], device='cuda:0')\n",
      "tensor([-0.8341,  0.4341,  0.2374,  0.1950,  0.1473, -0.5010,  0.9077, -0.6484,\n",
      "        -0.3742, -0.3710,  0.5967,  1.0490, -0.0453,  0.5050,  0.6899, -0.6456],\n",
      "       device='cuda:0')\n"
     ]
    }
   ],
   "source": [
    "if torch.cuda.is_available():\n",
    "    x = x.cuda()\n",
    "    y = y.cuda()\n",
    "    print(x)\n",
    "    print(y)"
   ]
  }
 ],
 "metadata": {
  "kernelspec": {
   "display_name": "PyTorch",
   "language": "python",
   "name": "pytorch"
  },
  "language_info": {
   "codemirror_mode": {
    "name": "ipython",
    "version": 3
   },
   "file_extension": ".py",
   "mimetype": "text/x-python",
   "name": "python",
   "nbconvert_exporter": "python",
   "pygments_lexer": "ipython3",
   "version": "3.7.5"
  }
 },
 "nbformat": 4,
 "nbformat_minor": 2
}
